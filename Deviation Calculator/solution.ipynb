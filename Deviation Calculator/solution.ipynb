{
 "cells": [
  {
   "cell_type": "code",
   "execution_count": 1,
   "metadata": {},
   "outputs": [],
   "source": [
    "import numpy as np"
   ]
  },
  {
   "cell_type": "code",
   "execution_count": 2,
   "metadata": {},
   "outputs": [],
   "source": [
    "testList = [\n",
    "    [0, 1, 2, 3, 4, 5, 6, 7, 8],\n",
    "    [2, 6, 2, 8, 4, 0, 1, 5, 7],\n",
    "    [9, 1, 5, 3, 3, 3, 2, 9, 0],\n",
    "    [2, 6, 2, 8, 4, 0, 1]\n",
    "]\n"
   ]
  },
  {
   "cell_type": "code",
   "execution_count": 3,
   "metadata": {},
   "outputs": [],
   "source": [
    "def calculate(list):\n",
    "    print(list)\n",
    "\n",
    "    if len(list) != 9: \n",
    "        raise ValueError(\"List must contain nine numbers.\")\n",
    "\n",
    "    _list = np.array(list).reshape(3, 3)\n",
    "\n",
    "    calculations = {\n",
    "        'mean': [\n",
    "            _list.mean(axis=0).tolist(),\n",
    "            _list.mean(axis=1).tolist(),\n",
    "            _list.mean().tolist()\n",
    "        ],\n",
    "        'variance': [\n",
    "            _list.var(axis=0).tolist(),\n",
    "            _list.var(axis=1).tolist(),\n",
    "            _list.var().tolist()\n",
    "        ],\n",
    "        'standard deviation': [\n",
    "            _list.std(axis=0).tolist(),\n",
    "            _list.std(axis=1).tolist(),\n",
    "            _list.std().tolist()\n",
    "        ],\n",
    "        'max': [\n",
    "            _list.max(axis=0).tolist(),\n",
    "            _list.max(axis=1).tolist(),\n",
    "            _list.max().tolist()\n",
    "        ],\n",
    "        'min': [\n",
    "            _list.min(axis=0).tolist(),\n",
    "            _list.min(axis=1).tolist(),\n",
    "            _list.min().tolist()\n",
    "        ],\n",
    "        'sum': [\n",
    "            _list.sum(axis=0).tolist(),\n",
    "            _list.sum(axis=1).tolist(),\n",
    "            _list.sum().tolist()\n",
    "        ]\n",
    "    }\n",
    "\n",
    "    return calculations\n"
   ]
  },
  {
   "cell_type": "code",
   "execution_count": 4,
   "metadata": {},
   "outputs": [
    {
     "name": "stdout",
     "output_type": "stream",
     "text": [
      "[0, 1, 2, 3, 4, 5, 6, 7, 8]\n",
      "{'mean': [[3.0, 4.0, 5.0], [1.0, 4.0, 7.0], 4.0], 'variance': [[6.0, 6.0, 6.0], [0.6666666666666666, 0.6666666666666666, 0.6666666666666666], 6.666666666666667], 'standard deviation': [[2.449489742783178, 2.449489742783178, 2.449489742783178], [0.816496580927726, 0.816496580927726, 0.816496580927726], 2.581988897471611], 'max': [[6, 7, 8], [2, 5, 8], 8], 'min': [[0, 1, 2], [0, 3, 6], 0], 'sum': [[9, 12, 15], [3, 12, 21], 36]}\n",
      "[2, 6, 2, 8, 4, 0, 1, 5, 7]\n",
      "{'mean': [[3.6666666666666665, 5.0, 3.0], [3.3333333333333335, 4.0, 4.333333333333333], 3.888888888888889], 'variance': [[9.555555555555557, 0.6666666666666666, 8.666666666666666], [3.555555555555556, 10.666666666666666, 6.222222222222221], 6.987654320987654], 'standard deviation': [[3.091206165165235, 0.816496580927726, 2.943920288775949], [1.8856180831641267, 3.265986323710904, 2.494438257849294], 2.6434171674156266], 'max': [[8, 6, 7], [6, 8, 7], 8], 'min': [[1, 4, 0], [2, 0, 1], 0], 'sum': [[11, 15, 9], [10, 12, 13], 35]}\n",
      "[9, 1, 5, 3, 3, 3, 2, 9, 0]\n",
      "{'mean': [[4.666666666666667, 4.333333333333333, 2.6666666666666665], [5.0, 3.0, 3.6666666666666665], 3.888888888888889], 'variance': [[9.555555555555555, 11.555555555555557, 4.222222222222222], [10.666666666666666, 0.0, 14.888888888888891], 9.209876543209875], 'standard deviation': [[3.0912061651652345, 3.39934634239519, 2.0548046676563256], [3.265986323710904, 0.0, 3.8586123009300755], 3.0347778408328137], 'max': [[9, 9, 5], [9, 3, 9], 9], 'min': [[2, 1, 0], [1, 3, 0], 0], 'sum': [[14, 13, 8], [15, 9, 11], 35]}\n",
      "[2, 6, 2, 8, 4, 0, 1]\n"
     ]
    },
    {
     "ename": "ValueError",
     "evalue": "List must contain nine numbers.",
     "output_type": "error",
     "traceback": [
      "\u001b[0;31m---------------------------------------------------------------------------\u001b[0m",
      "\u001b[0;31mValueError\u001b[0m                                Traceback (most recent call last)",
      "\u001b[1;32m/home/arts/DEV/freeCodeCamp/data-analysis-with-python/Deviation Calculator/Lesson_1.ipynb Cell 4'\u001b[0m in \u001b[0;36m<module>\u001b[0;34m\u001b[0m\n\u001b[1;32m      <a href='vscode-notebook-cell://wsl%2Bubuntu-20.04/home/arts/DEV/freeCodeCamp/data-analysis-with-python/Deviation%20Calculator/Lesson_1.ipynb#ch0000005vscode-remote?line=0'>1</a>\u001b[0m \u001b[39mfor\u001b[39;00m \u001b[39mlist\u001b[39m \u001b[39min\u001b[39;00m testList:\n\u001b[0;32m----> <a href='vscode-notebook-cell://wsl%2Bubuntu-20.04/home/arts/DEV/freeCodeCamp/data-analysis-with-python/Deviation%20Calculator/Lesson_1.ipynb#ch0000005vscode-remote?line=1'>2</a>\u001b[0m     \u001b[39mprint\u001b[39m(calculate(\u001b[39mlist\u001b[39;49m))\n",
      "\u001b[1;32m/home/arts/DEV/freeCodeCamp/data-analysis-with-python/Deviation Calculator/Lesson_1.ipynb Cell 3'\u001b[0m in \u001b[0;36mcalculate\u001b[0;34m(list)\u001b[0m\n\u001b[1;32m      <a href='vscode-notebook-cell://wsl%2Bubuntu-20.04/home/arts/DEV/freeCodeCamp/data-analysis-with-python/Deviation%20Calculator/Lesson_1.ipynb#ch0000004vscode-remote?line=1'>2</a>\u001b[0m \u001b[39mprint\u001b[39m(\u001b[39mlist\u001b[39m)\n\u001b[1;32m      <a href='vscode-notebook-cell://wsl%2Bubuntu-20.04/home/arts/DEV/freeCodeCamp/data-analysis-with-python/Deviation%20Calculator/Lesson_1.ipynb#ch0000004vscode-remote?line=3'>4</a>\u001b[0m \u001b[39mif\u001b[39;00m \u001b[39mlen\u001b[39m(\u001b[39mlist\u001b[39m) \u001b[39m!=\u001b[39m \u001b[39m9\u001b[39m: \n\u001b[0;32m----> <a href='vscode-notebook-cell://wsl%2Bubuntu-20.04/home/arts/DEV/freeCodeCamp/data-analysis-with-python/Deviation%20Calculator/Lesson_1.ipynb#ch0000004vscode-remote?line=4'>5</a>\u001b[0m     \u001b[39mraise\u001b[39;00m \u001b[39mValueError\u001b[39;00m(\u001b[39m\"\u001b[39m\u001b[39mList must contain nine numbers.\u001b[39m\u001b[39m\"\u001b[39m)\n\u001b[1;32m      <a href='vscode-notebook-cell://wsl%2Bubuntu-20.04/home/arts/DEV/freeCodeCamp/data-analysis-with-python/Deviation%20Calculator/Lesson_1.ipynb#ch0000004vscode-remote?line=6'>7</a>\u001b[0m _list \u001b[39m=\u001b[39m np\u001b[39m.\u001b[39marray(\u001b[39mlist\u001b[39m)\u001b[39m.\u001b[39mreshape(\u001b[39m3\u001b[39m, \u001b[39m3\u001b[39m)\n\u001b[1;32m      <a href='vscode-notebook-cell://wsl%2Bubuntu-20.04/home/arts/DEV/freeCodeCamp/data-analysis-with-python/Deviation%20Calculator/Lesson_1.ipynb#ch0000004vscode-remote?line=8'>9</a>\u001b[0m calculations \u001b[39m=\u001b[39m {\n\u001b[1;32m     <a href='vscode-notebook-cell://wsl%2Bubuntu-20.04/home/arts/DEV/freeCodeCamp/data-analysis-with-python/Deviation%20Calculator/Lesson_1.ipynb#ch0000004vscode-remote?line=9'>10</a>\u001b[0m     \u001b[39m'\u001b[39m\u001b[39mmean\u001b[39m\u001b[39m'\u001b[39m: [\n\u001b[1;32m     <a href='vscode-notebook-cell://wsl%2Bubuntu-20.04/home/arts/DEV/freeCodeCamp/data-analysis-with-python/Deviation%20Calculator/Lesson_1.ipynb#ch0000004vscode-remote?line=10'>11</a>\u001b[0m         _list\u001b[39m.\u001b[39mmean(axis\u001b[39m=\u001b[39m\u001b[39m0\u001b[39m)\u001b[39m.\u001b[39mtolist(),\n\u001b[0;32m   (...)\u001b[0m\n\u001b[1;32m     <a href='vscode-notebook-cell://wsl%2Bubuntu-20.04/home/arts/DEV/freeCodeCamp/data-analysis-with-python/Deviation%20Calculator/Lesson_1.ipynb#ch0000004vscode-remote?line=38'>39</a>\u001b[0m     ]\n\u001b[1;32m     <a href='vscode-notebook-cell://wsl%2Bubuntu-20.04/home/arts/DEV/freeCodeCamp/data-analysis-with-python/Deviation%20Calculator/Lesson_1.ipynb#ch0000004vscode-remote?line=39'>40</a>\u001b[0m }\n",
      "\u001b[0;31mValueError\u001b[0m: List must contain nine numbers."
     ]
    }
   ],
   "source": [
    "for list in testList:\n",
    "    print(calculate(list))"
   ]
  }
 ],
 "metadata": {
  "interpreter": {
   "hash": "1921acad61481c53a3868f868efd562d89556667b78ea67457cc1b93179e6871"
  },
  "kernelspec": {
   "display_name": "Python 3.10.2 ('.env': venv)",
   "language": "python",
   "name": "python3"
  },
  "language_info": {
   "codemirror_mode": {
    "name": "ipython",
    "version": 3
   },
   "file_extension": ".py",
   "mimetype": "text/x-python",
   "name": "python",
   "nbconvert_exporter": "python",
   "pygments_lexer": "ipython3",
   "version": "3.10.2"
  },
  "orig_nbformat": 4
 },
 "nbformat": 4,
 "nbformat_minor": 2
}
